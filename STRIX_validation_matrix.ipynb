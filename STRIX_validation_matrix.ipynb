{
 "cells": [
  {
   "cell_type": "code",
   "execution_count": 21,
   "metadata": {},
   "outputs": [],
   "source": [
    "# import libraries\n",
    "import os\n",
    "import sys\n",
    "import arcpy\n",
    "import numpy as np\n",
    "from arcpy.sa import *\n",
    "\n",
    "\n",
    "item = 'Encamat//plocha_4_2_compo_1'\n",
    "\n",
    "def validation_matrix(composite):\n",
    "    composite_ras = arcpy.Raster(item)\n",
    "\n",
    "    # analyse it\n",
    "    ## cellsize specification\n",
    "    cellSize = composite_ras.meanCellWidth\n",
    "    Cell_Size = str(cellSize)+\" \"+str(cellSize)\n",
    "\n",
    "    ## additional values specification\n",
    "    lowerLeft = arcpy.Point(composite_ras.extent.XMin,composite_ras.extent.YMin)\n",
    "\n",
    "    ## export to numpy array\n",
    "    composite_array = arcpy.RasterToNumPyArray(composite_ras,nodata_to_value=0)\n",
    "\n",
    "    no_no = 0\n",
    "    no_sheet = 0\n",
    "    no_rill = 0\n",
    "    sheet_no = 0\n",
    "    sheet_sheet = 0\n",
    "    sheet_rill = 0\n",
    "    rill_no = 0\n",
    "    rill_sheet = 0\n",
    "    rill_rill = 0\n",
    "\n",
    "    unique_valid = []\n",
    "    unique_sort = []\n",
    "\n",
    "    i, j, k, l = 0, 0, 0, 0\n",
    "    limit_x = composite_array.shape[2]\n",
    "    limit_y = composite_array.shape[1]\n",
    "    steps = limit_x * limit_y\n",
    "    area_no = 0.0001\n",
    "    area_sheet = 0.0001\n",
    "    area_rill = 0.0001\n",
    "\n",
    "    for step in range(steps):\n",
    "        valid = composite_array[0][j, i]\n",
    "        sort = composite_array[1][j, i]\n",
    "\n",
    "    #     if valid == 0:\n",
    "    #         pass\n",
    "\n",
    "        if valid not in unique_valid:\n",
    "            unique_valid.append(valid)\n",
    "\n",
    "        if sort not in unique_sort:\n",
    "            unique_sort.append(sort)\n",
    "\n",
    "        if valid == 99:\n",
    "    #     elif valid == 99:\n",
    "            area_no += 1\n",
    "            if sort == 99:\n",
    "                no_no += 1\n",
    "            elif sort == 88:\n",
    "                no_sheet += 1\n",
    "            else:\n",
    "                no_rill += 1\n",
    "\n",
    "        elif valid == 88:\n",
    "            area_sheet += 1\n",
    "            if sort == 99:\n",
    "                sheet_no += 1\n",
    "            elif sort == 88:\n",
    "                sheet_sheet += 1\n",
    "            else:\n",
    "                sheet_rill += 1\n",
    "\n",
    "        else:\n",
    "            area_rill += 1\n",
    "            if sort == 99:\n",
    "                rill_no += 1\n",
    "            elif sort == 88:\n",
    "                rill_sheet += 1\n",
    "            else:\n",
    "                rill_rill += 1\n",
    "\n",
    "        i += 1\n",
    "        if i == limit_x:\n",
    "            j +=1\n",
    "            i = 0\n",
    "        if j+1 == limit_y:\n",
    "            j = 0\n",
    "            break\n",
    "\n",
    "    validation_matrix = numpy.empty((3, 3))\n",
    "    validation_matrix[0:1, 0:1] = int(round(no_no/area_no, 2) * 100)\n",
    "    validation_matrix[1:2, 0:1] = int(round(no_sheet/area_no, 2) * 100)\n",
    "    validation_matrix[2:3, 0:1] = int(round(no_rill/area_no, 2) * 100)\n",
    "    validation_matrix[0:1, 1:2] = int(round(sheet_no/area_sheet, 2) * 100)\n",
    "    validation_matrix[1:2, 1:2] = int(round(sheet_sheet/area_sheet, 2) * 100)\n",
    "    validation_matrix[2:3, 1:2] = int(round(sheet_rill/area_sheet, 2) * 100)\n",
    "    validation_matrix[0:1, 2:3] = int(round(rill_no/area_rill, 2) * 100)\n",
    "    validation_matrix[1:2, 2:3] = int(round(rill_sheet/area_rill, 2) * 100)\n",
    "    validation_matrix[2:3, 2:3] = int(round(rill_rill/area_rill, 2) * 100)\n",
    "\n",
    "    print(validation_matrix)\n",
    "\n",
    "    return validation_matrix\n",
    "\n",
    "    # print(int(round(no_no/area_no, 2) * 100), int(round(sheet_no/area_sheet, 2) * 100), int(round(rill_no/area_rill, 2) * 100))\n",
    "    # print(int(round(no_sheet/area_no, 2) * 100), int(round(sheet_sheet/area_sheet, 2) * 100), int(round(rill_sheet/area_rill, 2) * 100))\n",
    "    # print(int(round(no_rill/area_no, 2) * 100), int(round(sheet_rill/area_sheet, 2) * 100), int(round(rill_rill/area_rill, 2) * 100))\n",
    "\n",
    "#     print(unique_valid)\n",
    "#     print(unique_sort)\n",
    "\n"
   ]
  },
  {
   "cell_type": "code",
   "execution_count": 22,
   "metadata": {},
   "outputs": [
    {
     "name": "stdout",
     "output_type": "stream",
     "text": [
      "[[14. 23.  0.]\n",
      " [45. 42.  1.]\n",
      " [41. 35. 99.]]\n"
     ]
    },
    {
     "data": {
      "text/plain": [
       "array([[14., 23.,  0.],\n",
       "       [45., 42.,  1.],\n",
       "       [41., 35., 99.]])"
      ]
     },
     "execution_count": 22,
     "metadata": {},
     "output_type": "execute_result"
    }
   ],
   "source": [
    "validation_matrix('Encamat//plocha_4_2_compo_1')"
   ]
  },
  {
   "cell_type": "code",
   "execution_count": 20,
   "metadata": {},
   "outputs": [
    {
     "name": "stdout",
     "output_type": "stream",
     "text": [
      "[[14. 23.  0.]\n",
      " [45. 42.  1.]\n",
      " [41. 35. 99.]]\n"
     ]
    }
   ],
   "source": [
    "validation_matrix = numpy.empty((3, 3))\n",
    "validation_matrix[0:1, 0:1] = int(round(no_no/area_no, 2) * 100)\n",
    "validation_matrix[1:2, 0:1] = int(round(no_sheet/area_no, 2) * 100)\n",
    "validation_matrix[2:3, 0:1] = int(round(no_rill/area_no, 2) * 100)\n",
    "validation_matrix[0:1, 1:2] = int(round(sheet_no/area_sheet, 2) * 100)\n",
    "validation_matrix[1:2, 1:2] = int(round(sheet_sheet/area_sheet, 2) * 100)\n",
    "validation_matrix[2:3, 1:2] = int(round(sheet_rill/area_sheet, 2) * 100)\n",
    "validation_matrix[0:1, 2:3] = int(round(rill_no/area_rill, 2) * 100)\n",
    "validation_matrix[1:2, 2:3] = int(round(rill_sheet/area_rill, 2) * 100)\n",
    "validation_matrix[2:3, 2:3] = int(round(rill_rill/area_rill, 2) * 100)\n",
    "                             \n",
    "print(validation_matrix)"
   ]
  },
  {
   "cell_type": "code",
   "execution_count": 13,
   "metadata": {},
   "outputs": [
    {
     "data": {
      "text/plain": [
       "42"
      ]
     },
     "execution_count": 13,
     "metadata": {},
     "output_type": "execute_result"
    }
   ],
   "source": [
    "int(round(sheet_sheet/area_sheet, 2) * 100)"
   ]
  },
  {
   "cell_type": "code",
   "execution_count": null,
   "metadata": {},
   "outputs": [],
   "source": []
  }
 ],
 "metadata": {
  "kernelspec": {
   "display_name": "ArcGISPro",
   "language": "Python",
   "name": "python3"
  },
  "language_info": {
   "file_extension": ".py",
   "name": "python",
   "version": "3"
  }
 },
 "nbformat": 4,
 "nbformat_minor": 2
}
